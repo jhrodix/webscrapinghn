{
 "cells": [
  {
   "cell_type": "markdown",
   "source": [
    "# Factor cambiario HN - BCH\r\n",
    "## Historico Factor Cambiario"
   ],
   "metadata": {}
  },
  {
   "cell_type": "code",
   "execution_count": 6,
   "source": [
    "from datetime import datetime\r\n",
    "import requests as req\r\n",
    "import xml.etree.ElementTree as ET \r\n",
    "import pandas as pd\r\n",
    "\r\n",
    "BCH_URL=\"https://www.bch.hn/_api/web/lists/GetByTitle('LST-INDICADOR-TIPOCAMBIO')/items?$top=5000\"\r\n",
    "\r\n",
    "def getWsFactorCambiario():\r\n",
    "\t\"\"\" Extrayendo datos \"\"\"\r\n",
    "\tres=req.get(BCH_URL,params={'Accept':'application/json; odata=verbose'})\r\n",
    "\ttree = ET.fromstring(res.content)\r\n",
    "\treturn [(tree[i].getchildren()[21].getchildren()[0].getchildren()[7].text,tree[i].getchildren()[21].getchildren()[0].getchildren()[8].text,tree[i].getchildren()[21].getchildren()[0].getchildren()[9].text) for i in list(range(3,len(tree)))]\r\n",
    "\r\n",
    "def getFactorCambiarioSinCambios():\r\n",
    "\t\"\"\" Generando el dataset \"\"\"\r\n",
    "\tdata=pd.DataFrame(getWsFactorCambiario())\r\n",
    "\tdata=data.rename(columns={0:'Fecha',1:'Tipo',2:'Factor'})\r\n",
    "\treturn data\r\n",
    "  \r\n",
    "def getFactorCambiario():\r\n",
    "\t\"\"\" Limpiando el dataset \"\"\"\r\n",
    "\tdata = getFactorCambiarioSinCambios()\r\n",
    "\tdata['Fecha']=data['Fecha'].str.strip()\r\n",
    "\tdata['Dia']=data['Fecha'].apply(lambda x: x.split(' ')[0])\r\n",
    "\tdata['Fecha']=data['Fecha'].apply(lambda x: x.split(' ')[1])\r\n",
    "\tdata['Fecha']=data['Fecha'].apply(lambda x: pd.to_datetime(x,format='%d/%m/%Y'))\r\n",
    "\tdata['Factor']=data['Factor'].astype(float)\r\n",
    "\tdata.loc[data['Tipo']=='Valor de Compra','Tipo']='Compra'\r\n",
    "\tdata=data.sort_values(by='Fecha')\r\n",
    "\treturn(data)\r\n",
    "\r\n",
    "data=getFactorCambiario()\r\n",
    "data.head()"
   ],
   "outputs": [
    {
     "output_type": "stream",
     "name": "stderr",
     "text": [
      "c:\\Users\\juanr\\Desktop\\Repositorios\\webscrapinghn\\venv\\lib\\site-packages\\ipykernel_launcher.py:12: DeprecationWarning: This method will be removed in future versions.  Use 'list(elem)' or iteration over elem instead.\n",
      "  if sys.path[0] == '':\n"
     ]
    },
    {
     "output_type": "execute_result",
     "data": {
      "text/html": [
       "<div>\n",
       "<style scoped>\n",
       "    .dataframe tbody tr th:only-of-type {\n",
       "        vertical-align: middle;\n",
       "    }\n",
       "\n",
       "    .dataframe tbody tr th {\n",
       "        vertical-align: top;\n",
       "    }\n",
       "\n",
       "    .dataframe thead th {\n",
       "        text-align: right;\n",
       "    }\n",
       "</style>\n",
       "<table border=\"1\" class=\"dataframe\">\n",
       "  <thead>\n",
       "    <tr style=\"text-align: right;\">\n",
       "      <th></th>\n",
       "      <th>Fecha</th>\n",
       "      <th>Tipo</th>\n",
       "      <th>Factor</th>\n",
       "      <th>Dia</th>\n",
       "    </tr>\n",
       "  </thead>\n",
       "  <tbody>\n",
       "    <tr>\n",
       "      <th>0</th>\n",
       "      <td>2021-02-09</td>\n",
       "      <td>Compra</td>\n",
       "      <td>24.0733</td>\n",
       "      <td>Martes</td>\n",
       "    </tr>\n",
       "    <tr>\n",
       "      <th>4</th>\n",
       "      <td>2021-02-09</td>\n",
       "      <td>Compra</td>\n",
       "      <td>25.0733</td>\n",
       "      <td>Martes</td>\n",
       "    </tr>\n",
       "    <tr>\n",
       "      <th>1</th>\n",
       "      <td>2021-02-10</td>\n",
       "      <td>Compra</td>\n",
       "      <td>24.0718</td>\n",
       "      <td>Miércoles</td>\n",
       "    </tr>\n",
       "    <tr>\n",
       "      <th>2</th>\n",
       "      <td>2021-02-11</td>\n",
       "      <td>Compra</td>\n",
       "      <td>24.0684</td>\n",
       "      <td>Jueves</td>\n",
       "    </tr>\n",
       "    <tr>\n",
       "      <th>3</th>\n",
       "      <td>2021-02-12</td>\n",
       "      <td>Compra</td>\n",
       "      <td>25.0647</td>\n",
       "      <td>Viernes</td>\n",
       "    </tr>\n",
       "  </tbody>\n",
       "</table>\n",
       "</div>"
      ],
      "text/plain": [
       "       Fecha    Tipo   Factor        Dia\n",
       "0 2021-02-09  Compra  24.0733     Martes\n",
       "4 2021-02-09  Compra  25.0733     Martes\n",
       "1 2021-02-10  Compra  24.0718  Miércoles\n",
       "2 2021-02-11  Compra  24.0684     Jueves\n",
       "3 2021-02-12  Compra  25.0647    Viernes"
      ]
     },
     "metadata": {},
     "execution_count": 6
    }
   ],
   "metadata": {}
  },
  {
   "cell_type": "code",
   "execution_count": 9,
   "source": [
    "from matplotlib.pyplot import plot\r\n",
    "plot(data['Fecha'],data['Factor'])"
   ],
   "outputs": [
    {
     "output_type": "execute_result",
     "data": {
      "text/plain": [
       "[<matplotlib.lines.Line2D at 0x20af0b0dbc8>]"
      ]
     },
     "metadata": {},
     "execution_count": 9
    },
    {
     "output_type": "display_data",
     "data": {
      "image/png": "[encoded data removed]",
      "text/plain": [
       "<Figure size 432x288 with 1 Axes>"
      ]
     },
     "metadata": {
      "needs_background": "light"
     }
    }
   ],
   "metadata": {}
  }
 ],
 "metadata": {
  "orig_nbformat": 4,
  "language_info": {
   "name": "python",
   "version": "3.7.6",
   "mimetype": "text/x-python",
   "codemirror_mode": {
    "name": "ipython",
    "version": 3
   },
   "pygments_lexer": "ipython3",
   "nbconvert_exporter": "python",
   "file_extension": ".py"
  },
  "kernelspec": {
   "name": "python3",
   "display_name": "Python 3.7.6 64-bit ('venv': venv)"
  },
  "interpreter": {
   "hash": "8ebf18bf09e26ae33f7298305d620963d836e32e6af5d09b59982cf46a448277"
  }
 },
 "nbformat": 4,
 "nbformat_minor": 2
}